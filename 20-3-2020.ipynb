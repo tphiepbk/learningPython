{
 "cells": [
  {
   "cell_type": "code",
   "execution_count": 5,
   "metadata": {},
   "outputs": [
    {
     "name": "stdout",
     "output_type": "stream",
     "text": [
      "<class 'list'>\n",
      "<class 'set'>\n",
      "<class 'tuple'>\n",
      "<class 'set'>\n"
     ]
    }
   ],
   "source": [
    "# Data type\n",
    "fruit = [\"banana\", \"apple\", \"orange\"]\n",
    "print(type(fruit))\n",
    "vehicles = {\"car\", \"truck\", \"bike\"}\n",
    "print(type(vehicles))\n",
    "rooms = (\"living room\", \"bedroom\", \"kitchen\")\n",
    "print(type(rooms))\n",
    "PC =({\"CPU\", \"Ram\", \"SSD\"}) # Frozen Set\n",
    "print(type(PC))"
   ]
  },
  {
   "cell_type": "code",
   "execution_count": 17,
   "metadata": {},
   "outputs": [
    {
     "name": "stdout",
     "output_type": "stream",
     "text": [
      "<class 'int'> <class 'float'> <class 'float'> <class 'complex'>\n",
      "Convert from int to float : 3 -> 3.0\n",
      "Convert from int to complex : 3 -> (3+0j)\n",
      "Convert from float to int : 2.34 -> 2\n",
      "Convert from float to complex : 2.34 -> (2.34+0j)\n"
     ]
    }
   ],
   "source": [
    "x = 3\n",
    "y = 2.34\n",
    "y1 = 34e4\n",
    "z = 5 + 6j\n",
    "print(type(x), type(y), type(y1), type(z))\n",
    "# Type conversion :\n",
    "a = float(x)\n",
    "a1 = complex(x)\n",
    "b = int(y)\n",
    "b1 = complex(y)\n",
    "# c = int(z) | Can't convert complex to int\n",
    "# c1 = float(z) | Can't convert complex to float\n",
    "print(\"Convert from int to float :\",x, \"->\", a)\n",
    "print(\"Convert from int to complex :\",x, \"->\", a1)\n",
    "print(\"Convert from float to int :\",y, \"->\", b)\n",
    "print(\"Convert from float to complex :\",y, \"->\", b1)"
   ]
  },
  {
   "cell_type": "code",
   "execution_count": 22,
   "metadata": {},
   "outputs": [
    {
     "name": "stdout",
     "output_type": "stream",
     "text": [
      "2\n"
     ]
    }
   ],
   "source": [
    "# Random number\n",
    "import random\n",
    "print(random.randrange(1,20))"
   ]
  },
  {
   "cell_type": "code",
   "execution_count": 32,
   "metadata": {},
   "outputs": [
    {
     "name": "stdout",
     "output_type": "stream",
     "text": [
      "3.0\n",
      "3\n",
      "34.6\n",
      "3\n"
     ]
    }
   ],
   "source": [
    "# Python casting\n",
    "varCast1 = 3\n",
    "varCast2 = 3.1\n",
    "varCast3 = \"34.6\"\n",
    "var1 = float(varCast1)\n",
    "print(var1)\n",
    "var2 = int(varCast2) # Casting from float to int, value will be round down\n",
    "print(var2)\n",
    "var3 = float(varCast3)\n",
    "print(var3)\n",
    "var4 = str(varCast1)\n",
    "print(var4)"
   ]
  },
  {
   "cell_type": "code",
   "execution_count": 34,
   "metadata": {},
   "outputs": [
    {
     "name": "stdout",
     "output_type": "stream",
     "text": [
      "A\n",
      "nol\n",
      "xim\n"
     ]
    }
   ],
   "source": [
    "# String\n",
    "varStr = \"Arnold Maximus\"\n",
    "print(varStr[0])\n",
    "print(varStr[2:5])\n",
    "print(varStr[-5:-2])"
   ]
  },
  {
   "cell_type": "code",
   "execution_count": 43,
   "metadata": {},
   "outputs": [
    {
     "name": "stdout",
     "output_type": "stream",
     "text": [
      "22\n",
      "23\n",
      "23\n"
     ]
    }
   ],
   "source": [
    "# String function\n",
    "print(len(varStr))\n",
    "varStr = varStr + \" \"\n",
    "print(len(varStr))\n",
    "varStr.strip()\n",
    "print(len(varStr))"
   ]
  },
  {
   "cell_type": "code",
   "execution_count": 48,
   "metadata": {},
   "outputs": [
    {
     "name": "stdout",
     "output_type": "stream",
     "text": [
      "True\n",
      "False\n"
     ]
    }
   ],
   "source": [
    "# Check if substr is in/not in str or not\n",
    "txt = \"Thai Phuc Hiep\"\n",
    "x = \"Thai\" in txt\n",
    "print(x)\n",
    "y = \"Phuc\" not in txt\n",
    "print(y)"
   ]
  },
  {
   "cell_type": "code",
   "execution_count": 51,
   "metadata": {},
   "outputs": [
    {
     "name": "stdout",
     "output_type": "stream",
     "text": [
      "I'm {} years old\n",
      "I'm 21 years old\n"
     ]
    }
   ],
   "source": [
    "# Combine str and number\n",
    "age = 21\n",
    "txt = \"I'm {} years old\"\n",
    "print(txt)\n",
    "print(txt.format(age))"
   ]
  },
  {
   "cell_type": "code",
   "execution_count": 53,
   "metadata": {},
   "outputs": [
    {
     "name": "stdout",
     "output_type": "stream",
     "text": [
      "CPU Intel Core I5 8300H, Ram 8GB bus 2666.67, SSD 256GB\n"
     ]
    }
   ],
   "source": [
    "# Combine str and many numbers :))))\n",
    "spec1 = 8300\n",
    "spec2 = 2666.67\n",
    "spec3 = 256\n",
    "PCspec = \"CPU Intel Core I5 {}H, Ram 8GB bus {}, SSD {}GB\"\n",
    "print(PCspec.format(spec1, spec2, spec3))"
   ]
  },
  {
   "cell_type": "code",
   "execution_count": 58,
   "metadata": {},
   "outputs": [
    {
     "name": "stdout",
     "output_type": "stream",
     "text": [
      "Hello everyone, my name is \"Thai Phuc Hiep\"\n",
      "Hello \\ World\n",
      "Hello\r",
      "World\n",
      "Hello \n",
      " World\n"
     ]
    }
   ],
   "source": [
    "# Escape Character\n",
    "print(\"Hello everyone, my name is \\\"Thai Phuc Hiep\\\"\")\n",
    "print(\"Hello \\\\ World\")\n",
    "print(\"Hello\\rWorld\")\n",
    "print(\"Hello \\n World\")"
   ]
  },
  {
   "cell_type": "code",
   "execution_count": 69,
   "metadata": {},
   "outputs": [
    {
     "name": "stdout",
     "output_type": "stream",
     "text": [
      "1\n"
     ]
    }
   ],
   "source": [
    "# Arithmetic Operation\n",
    "x = 3\n",
    "y = 2\n",
    "print(x // y)"
   ]
  },
  {
   "cell_type": "code",
   "execution_count": null,
   "metadata": {},
   "outputs": [],
   "source": []
  }
 ],
 "metadata": {
  "kernelspec": {
   "display_name": "Python 3",
   "language": "python",
   "name": "python3"
  },
  "language_info": {
   "codemirror_mode": {
    "name": "ipython",
    "version": 3
   },
   "file_extension": ".py",
   "mimetype": "text/x-python",
   "name": "python",
   "nbconvert_exporter": "python",
   "pygments_lexer": "ipython3",
   "version": "3.7.6"
  }
 },
 "nbformat": 4,
 "nbformat_minor": 4
}
