{
 "cells": [
  {
   "cell_type": "code",
   "execution_count": 1,
   "metadata": {},
   "outputs": [],
   "source": [
    "x, y, z = 1, 2, 3 # We can use this declaration\n",
    "x = y = z = \"orange\" # Or this one"
   ]
  },
  {
   "cell_type": "code",
   "execution_count": 6,
   "metadata": {},
   "outputs": [
    {
     "name": "stdout",
     "output_type": "stream",
     "text": [
      "Hello yeah\n"
     ]
    }
   ],
   "source": [
    "x = 4\n",
    "y = \"yeah\"\n",
    "# Combine text and variables\n",
    "\"\"\"\n",
    "If you combine string and variable, Python will give you error :\n",
    "print(\"Hello \" + x)\n",
    "\"\"\"\n",
    "print(\"Hello \" + y)"
   ]
  },
  {
   "cell_type": "code",
   "execution_count": 9,
   "metadata": {},
   "outputs": [
    {
     "name": "stdout",
     "output_type": "stream",
     "text": [
      "My CPU is : i5 9400F\n",
      "My CPU is : i3 9100F\n"
     ]
    }
   ],
   "source": [
    "# Global variables : variables created outside function\n",
    "# If we override global variables inside function, it will only have that value INSIDE function\n",
    "x = \"i3 9100F\"\n",
    "def cpu() :\n",
    "    x = \"i5 9400F\"\n",
    "    print(\"My CPU is : \" + x)\n",
    "cpu()\n",
    "print(\"My CPU is : \" + x)"
   ]
  },
  {
   "cell_type": "code",
   "execution_count": 19,
   "metadata": {},
   "outputs": [
    {
     "name": "stdout",
     "output_type": "stream",
     "text": [
      "World !\n",
      "Hello World !\n"
     ]
    }
   ],
   "source": [
    "# To change global variables inside function , use keyword \"global\"\n",
    "var = \"Hello\"\n",
    "def globalKeyword() :\n",
    "    global var \n",
    "    var = \"World !\"\n",
    "    print(var)\n",
    "    \n",
    "globalKeyword() # Call the function to change global variable\n",
    "\n",
    "print(\"Hello \" + var)"
   ]
  },
  {
   "cell_type": "code",
   "execution_count": null,
   "metadata": {},
   "outputs": [],
   "source": []
  }
 ],
 "metadata": {
  "kernelspec": {
   "display_name": "Python 3",
   "language": "python",
   "name": "python3"
  },
  "language_info": {
   "codemirror_mode": {
    "name": "ipython",
    "version": 3
   },
   "file_extension": ".py",
   "mimetype": "text/x-python",
   "name": "python",
   "nbconvert_exporter": "python",
   "pygments_lexer": "ipython3",
   "version": "3.7.6"
  }
 },
 "nbformat": 4,
 "nbformat_minor": 4
}
